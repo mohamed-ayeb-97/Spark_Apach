{
  "nbformat": 4,
  "nbformat_minor": 0,
  "metadata": {
    "colab": {
      "provenance": [],
      "include_colab_link": true
    },
    "kernelspec": {
      "name": "python3",
      "display_name": "Python 3"
    },
    "language_info": {
      "name": "python"
    }
  },
  "cells": [
    {
      "cell_type": "markdown",
      "metadata": {
        "id": "view-in-github",
        "colab_type": "text"
      },
      "source": [
        "<a href=\"https://colab.research.google.com/github/mohamed-ayeb-97/Spark_Apach/blob/main/Spark_Apach.ipynb\" target=\"_parent\"><img src=\"https://colab.research.google.com/assets/colab-badge.svg\" alt=\"Open In Colab\"/></a>"
      ]
    },
    {
      "cell_type": "markdown",
      "source": [
        "#**Mini-TP sur Apache Spark**\n",
        "\n",
        "\n"
      ],
      "metadata": {
        "id": "tz5jjkr5sAq7"
      }
    },
    {
      "cell_type": "markdown",
      "source": [
        "##**1. Objectifs**"
      ],
      "metadata": {
        "id": "BN2-_l-pW6rm"
      }
    },
    {
      "cell_type": "markdown",
      "source": [
        "Le TP consiste à regrouper des documents textuels tels que les documents qui\n",
        "partagent le même thème se retrouvent dans le même groupe, et les documents qui\n",
        "portent sur des sujets très différents se trouvent dans des groupes différents.\n"
      ],
      "metadata": {
        "id": "LEUpoyCeXkAh"
      }
    },
    {
      "cell_type": "markdown",
      "source": [
        "## **2. Mise en place de l'environnement de travail**"
      ],
      "metadata": {
        "id": "OaGPZqp9Xq2_"
      }
    },
    {
      "cell_type": "code",
      "source": [
        "! sudo apt-get update\n",
        "! apt-get install openjdk-8-jdk-headless -qq > /dev/null"
      ],
      "metadata": {
        "id": "kQhDnd4s3rvF",
        "colab": {
          "base_uri": "https://localhost:8080/"
        },
        "outputId": "fb034d90-b6ce-4a51-a2f9-18a14b83291c"
      },
      "execution_count": null,
      "outputs": [
        {
          "output_type": "stream",
          "name": "stdout",
          "text": [
            "\r0% [Working]\r            \rGet:1 https://cloud.r-project.org/bin/linux/ubuntu focal-cran40/ InRelease [3,622 B]\n",
            "Get:2 http://security.ubuntu.com/ubuntu focal-security InRelease [114 kB]\n",
            "Ign:3 https://developer.download.nvidia.com/compute/machine-learning/repos/ubuntu2004/x86_64  InRelease\n",
            "Hit:4 https://developer.download.nvidia.com/compute/cuda/repos/ubuntu2004/x86_64  InRelease\n",
            "Hit:5 https://developer.download.nvidia.com/compute/machine-learning/repos/ubuntu2004/x86_64  Release\n",
            "Hit:6 http://archive.ubuntu.com/ubuntu focal InRelease\n",
            "Hit:7 http://ppa.launchpad.net/c2d4u.team/c2d4u4.0+/ubuntu focal InRelease\n",
            "Get:8 http://archive.ubuntu.com/ubuntu focal-updates InRelease [114 kB]\n",
            "Hit:10 http://ppa.launchpad.net/cran/libgit2/ubuntu focal InRelease\n",
            "Hit:11 http://ppa.launchpad.net/deadsnakes/ppa/ubuntu focal InRelease\n",
            "Get:12 http://security.ubuntu.com/ubuntu focal-security/universe amd64 Packages [1,013 kB]\n",
            "Get:13 http://archive.ubuntu.com/ubuntu focal-backports InRelease [108 kB]\n",
            "Hit:14 http://ppa.launchpad.net/graphics-drivers/ppa/ubuntu focal InRelease\n",
            "Get:15 http://archive.ubuntu.com/ubuntu focal-updates/multiverse amd64 Packages [31.2 kB]\n",
            "Hit:16 http://ppa.launchpad.net/ubuntugis/ppa/ubuntu focal InRelease\n",
            "Get:17 http://archive.ubuntu.com/ubuntu focal-updates/restricted amd64 Packages [2,134 kB]\n",
            "Get:18 http://archive.ubuntu.com/ubuntu focal-updates/universe amd64 Packages [1,308 kB]\n",
            "Get:19 http://archive.ubuntu.com/ubuntu focal-updates/main amd64 Packages [3,012 kB]\n",
            "Fetched 7,837 kB in 2s (3,945 kB/s)\n",
            "Reading package lists... Done\n"
          ]
        }
      ]
    },
    {
      "cell_type": "code",
      "source": [
        "! wget -q https://dlcdn.apache.org/spark/spark-3.3.2/spark-3.3.2-bin-hadoop3.tgz"
      ],
      "metadata": {
        "id": "gWk9XUWt3rsj"
      },
      "execution_count": null,
      "outputs": []
    },
    {
      "cell_type": "code",
      "source": [
        "! tar xf /content/spark-3.3.2-bin-hadoop3.tgz"
      ],
      "metadata": {
        "id": "CqQePlIS3rp_"
      },
      "execution_count": null,
      "outputs": []
    },
    {
      "cell_type": "code",
      "source": [
        "!pip install -q findspark\n",
        "!pip install pyspark"
      ],
      "metadata": {
        "id": "DkvmSvrk4L2T",
        "colab": {
          "base_uri": "https://localhost:8080/"
        },
        "outputId": "99d34757-7cbb-4d8e-8d60-22c212c75e98"
      },
      "execution_count": null,
      "outputs": [
        {
          "output_type": "stream",
          "name": "stdout",
          "text": [
            "Looking in indexes: https://pypi.org/simple, https://us-python.pkg.dev/colab-wheels/public/simple/\n",
            "Collecting pyspark\n",
            "  Downloading pyspark-3.3.2.tar.gz (281.4 MB)\n",
            "\u001b[2K     \u001b[90m━━━━━━━━━━━━━━━━━━━━━━━━━━━━━━━━━━━━━━━\u001b[0m \u001b[32m281.4/281.4 MB\u001b[0m \u001b[31m5.3 MB/s\u001b[0m eta \u001b[36m0:00:00\u001b[0m\n",
            "\u001b[?25h  Preparing metadata (setup.py) ... \u001b[?25l\u001b[?25hdone\n",
            "Collecting py4j==0.10.9.5\n",
            "  Downloading py4j-0.10.9.5-py2.py3-none-any.whl (199 kB)\n",
            "\u001b[2K     \u001b[90m━━━━━━━━━━━━━━━━━━━━━━━━━━━━━━━━━━━━━━\u001b[0m \u001b[32m199.7/199.7 KB\u001b[0m \u001b[31m24.9 MB/s\u001b[0m eta \u001b[36m0:00:00\u001b[0m\n",
            "\u001b[?25hBuilding wheels for collected packages: pyspark\n",
            "  Building wheel for pyspark (setup.py) ... \u001b[?25l\u001b[?25hdone\n",
            "  Created wheel for pyspark: filename=pyspark-3.3.2-py2.py3-none-any.whl size=281824025 sha256=721ca50e90249705940e35e8a483794fd15f3a47ed2ce36f6d0f91b1c400da5d\n",
            "  Stored in directory: /root/.cache/pip/wheels/b1/59/a0/a1a0624b5e865fd389919c1a10f53aec9b12195d6747710baf\n",
            "Successfully built pyspark\n",
            "Installing collected packages: py4j, pyspark\n",
            "Successfully installed py4j-0.10.9.5 pyspark-3.3.2\n"
          ]
        }
      ]
    },
    {
      "cell_type": "code",
      "source": [
        "# Set up required environment variables\n",
        "\n",
        "import os\n",
        "\n",
        "os.environ[\"JAVA_HOME\"] = \"/usr/lib/jvm/java-8-openjdk-amd64\"\n",
        "os.environ[\"SPARK_HOME\"] = \"/content/spark-3.3.2-bin-hadoop3\"\n",
        "\n",
        "os.environ['PYSPARK_SUBMIT_ARGS'] = '--packages org.apache.spark:spark-avro_2.11:2.4.5 pyspark-shell'\n",
        "\n",
        "import findspark\n",
        "\n",
        "findspark.init(\"spark-3.3.2-bin-hadoop3\")\n",
        "\n",
        "\n",
        "from pyspark import SparkContext, SparkConf\n",
        "\n",
        "\n",
        "configuration = SparkConf().setAppName(\"name\").setMaster(\"local[4]\")\n",
        "sc = SparkContext(conf=configuration)"
      ],
      "metadata": {
        "id": "AIg3VrKP3rnb"
      },
      "execution_count": null,
      "outputs": []
    },
    {
      "cell_type": "code",
      "source": [
        "sc"
      ],
      "metadata": {
        "id": "1Kn_XL4j3rkm",
        "colab": {
          "base_uri": "https://localhost:8080/",
          "height": 196
        },
        "outputId": "66dee540-70a8-4db9-dae5-78f051758ed0"
      },
      "execution_count": null,
      "outputs": [
        {
          "output_type": "execute_result",
          "data": {
            "text/plain": [
              "<SparkContext master=local[4] appName=name>"
            ],
            "text/html": [
              "\n",
              "        <div>\n",
              "            <p><b>SparkContext</b></p>\n",
              "\n",
              "            <p><a href=\"http://93518b38b519:4040\">Spark UI</a></p>\n",
              "\n",
              "            <dl>\n",
              "              <dt>Version</dt>\n",
              "                <dd><code>v3.3.2</code></dd>\n",
              "              <dt>Master</dt>\n",
              "                <dd><code>local[4]</code></dd>\n",
              "              <dt>AppName</dt>\n",
              "                <dd><code>name</code></dd>\n",
              "            </dl>\n",
              "        </div>\n",
              "        "
            ]
          },
          "metadata": {},
          "execution_count": 6
        }
      ]
    },
    {
      "cell_type": "markdown",
      "source": [
        "## **3. Données**"
      ],
      "metadata": {
        "id": "AGZPcyHBbZrx"
      }
    },
    {
      "cell_type": "code",
      "source": [
        "# Telechargement des données\n",
        "\n",
        "! wget -q http://qwone.com/~jason/20Newsgroups/20news-19997.tar.gz"
      ],
      "metadata": {
        "id": "7fFA_blQ3rhv"
      },
      "execution_count": null,
      "outputs": []
    },
    {
      "cell_type": "code",
      "source": [
        "# Decompression des données\n",
        "\n",
        "! tar xf /content/20news-19997.tar.gz"
      ],
      "metadata": {
        "id": "OQIKb9qM3re0"
      },
      "execution_count": null,
      "outputs": []
    },
    {
      "cell_type": "code",
      "source": [
        "from pyspark.sql import SparkSession\n",
        "\n",
        "spark = SparkSession.builder.config(conf=configuration).getOrCreate()"
      ],
      "metadata": {
        "id": "d1kQsAy93rbv"
      },
      "execution_count": null,
      "outputs": []
    },
    {
      "cell_type": "code",
      "source": [
        "# Chargement des données dans deux variables de type RDD\n",
        "\n",
        "rdd_alt_atheism = sc.wholeTextFiles(\"/content/20_newsgroups/alt.atheism\")\n",
        "rdd_rec_sport_baseball = sc.wholeTextFiles(\"/content/20_newsgroups/rec.sport.baseball\")"
      ],
      "metadata": {
        "id": "HfRdWHYq3rYl"
      },
      "execution_count": null,
      "outputs": []
    },
    {
      "cell_type": "code",
      "source": [
        "# Split_header_body est la fonction qu'on va utliser pour séparer le corps du message de l’entête\n",
        "\n",
        "def split_header_body(document):\n",
        "    # Séparer le document à la première occurrence de \"\\n\\n\"\n",
        "    header, body = document.split(\"\\n\\n\", 1)\n",
        "    return header,body\n",
        "\n",
        "# org_cat est la fonction qu'on va utliser pour extraire les champs de l'entête (l'organisation & la catégorie)\n",
        "\n",
        "def org_cat(x):\n",
        "  lines = x.split('\\n')\n",
        "  org_name = 'None'\n",
        "  cat_name = 'None'\n",
        "  for line in lines:\n",
        "    if line.startswith('Organization:'):\n",
        "      org_name = line.split(':')[1].strip()\n",
        "    # dans cette partie de la fonction on a utlisé la méthode ci-dessous pour contourner le problème d'apparition d'autres mots non essentiels dans la catégorie\n",
        "    if line.startswith('Newsgroups:'):\n",
        "      if \"alt.atheism\" in line:\n",
        "        cat_name = \"alt.atheism\"\n",
        "      if \"rec.sport.baseball\" in line:\n",
        "        cat_name = \"rec.sport.baseball\"\n",
        "\n",
        "  return (cat_name,org_name)\n",
        "\n",
        "# Appliquer la fonction à chaque document de chaque RDD\n",
        "\n",
        "rdd_alt_atheism = rdd_alt_atheism.map(lambda x: split_header_body(x[1]))\n",
        "rdd_rec_sport_baseball = rdd_rec_sport_baseball.map(lambda x: split_header_body(x[1]))\n",
        "\n",
        "\n",
        "rdd_alt_atheism = rdd_alt_atheism.map( lambda x: org_cat(x[0]) + (x[1],) )\n",
        "rdd_rec_sport_baseball = rdd_rec_sport_baseball.map( lambda x: org_cat(x[0]) + (x[1],) )"
      ],
      "metadata": {
        "id": "OxqvrCaL3rSz"
      },
      "execution_count": null,
      "outputs": []
    },
    {
      "cell_type": "code",
      "source": [
        "rdd_alt_atheism.collect()[2]"
      ],
      "metadata": {
        "id": "ewjZzQKq3rP9",
        "colab": {
          "base_uri": "https://localhost:8080/"
        },
        "outputId": "b74cb9c9-b289-4068-930b-2a5dfac786f5"
      },
      "execution_count": null,
      "outputs": [
        {
          "output_type": "execute_result",
          "data": {
            "text/plain": [
              "('alt.atheism',\n",
              " 'Summit NJ',\n",
              " 'student writes:\\n\\n>Somewhere, roger colin shouse writes about \"radical gay dogma.\"  Somewhere else\\n>he claims not to claim to have a claim to knowing those he doesn\\'t know.\\n>There are at least twenty instances of this kind of muddleheaded fourth-\\n>reich-sophistique shit in his postings.  Maybe more.  In fact I\\'m not sure\\n>the instances could be counted, because they reproduce like a virus the more\\n>you consider his words.\\n>\\tMy question is this: what is the best response to weasels like\\n>shouse and Stan Krieger?  Possibilities:\\n>\\t(a) study them dispassionately and figure out how they work, then\\n>(1) remember what you\\'ve learned so as to combat them when they or their clones\\n>get into office\\n>(2) contribute your insights to your favorite abnormal psych ward\\n>\\t(b) learn to overcome your repugnance for serial murder\\n\\nThis posting is totally uncalled for in rec.scouting.\\n\\nThe point has been raised and has been answered.  Roger and I have\\nclearly stated our support of the BSA position on the issue;\\nspecifically, that homosexual behavior constitutes a violation of\\nthe Scout Oath (specifically, the promise to live \"morally straight\").\\n\\nThere is really nothing else to discuss.  Trying to cloud the issue\\nwith comparisons to Blacks or other minorities is also meaningless\\nbecause it\\'s like comparing apples to oranges (i.e., people can\\'t\\ncontrol their race but they can control their behavior).\\n\\nWhat else is there to possibly discuss on rec.scouting on this issue?\\nNobody, including BSA, is denying anybody the right to live and/or\\nworship as they please or don\\'t please,  but it doesn\\'t mean that BSA\\nis the big bad wolf for adhering to the recognized, positive, religious\\nand moral standards on which our society has been established and on\\nwhich it should continue to be based.\\n-- \\nStan Krieger                 All opinions, advice, or suggestions, even\\nUNIX System Laboratories     if related to my employment, are my own.\\nSummit, NJ\\nsmk@usl.com\\n')"
            ]
          },
          "metadata": {},
          "execution_count": 12
        }
      ]
    },
    {
      "cell_type": "code",
      "source": [
        "# Fusionnement des deux RDD avec un union\n",
        "\n",
        "union_rdd = rdd_alt_atheism.union(rdd_rec_sport_baseball)\n"
      ],
      "metadata": {
        "id": "M4EsLCtF3rND"
      },
      "execution_count": null,
      "outputs": []
    },
    {
      "cell_type": "code",
      "source": [
        "# Transformation du nouveau RDD obtenu pour que chaque élément doit de type pyspark.sql.Row\n",
        "\n",
        "from pyspark.sql import Row\n",
        "\n",
        "union_rdd = union_rdd.map(lambda x: Row(categorie = x[0], organisation=x[1], message = x[2]))\n"
      ],
      "metadata": {
        "id": "I8LN1aJ2VqKn"
      },
      "execution_count": null,
      "outputs": []
    },
    {
      "cell_type": "code",
      "source": [
        "# Creation d'un objet de type DataFrame à partir du RDD précédent\n",
        "\n",
        "df = spark.createDataFrame(union_rdd, schema=['Categorie', 'Organisation', 'Message'])\n",
        "\n",
        "df.show()"
      ],
      "metadata": {
        "id": "68RdvaiF3rG9",
        "colab": {
          "base_uri": "https://localhost:8080/"
        },
        "outputId": "3d26c69a-4e04-4aca-b923-915ecc2c4309"
      },
      "execution_count": null,
      "outputs": [
        {
          "output_type": "stream",
          "name": "stdout",
          "text": [
            "+-----------+--------------------+--------------------+\n",
            "|  Categorie|        Organisation|             Message|\n",
            "+-----------+--------------------+--------------------+\n",
            "|alt.atheism|                   -|In article <1pmjo...|\n",
            "|alt.atheism|California Instit...|(reference line t...|\n",
            "|alt.atheism|           Summit NJ|student writes:\\n...|\n",
            "|alt.atheism|Mantis Consultant...|watson@sce.carlet...|\n",
            "|alt.atheism|Okcforum Unix Use...|Keith M. Ryan (km...|\n",
            "|alt.atheism|CS Dept, Universi...|-*-----\\nIn artic...|\n",
            "|alt.atheism|Society for Putti...|bil@okcforum.osrh...|\n",
            "|alt.atheism|Boston University...|In article <1qlb7...|\n",
            "|alt.atheism|Case Western Rese...|In article <1993A...|\n",
            "|alt.atheism|        SGI TechPubs|---\\n[I'm taking ...|\n",
            "|alt.atheism|Computing Laborat...|\\nacooper@mac.cc....|\n",
            "|alt.atheism|Boston University...|In article <1993A...|\n",
            "|alt.atheism|California Instit...|arromdee@jyusenky...|\n",
            "|alt.atheism|I didn't do it, n...|In article <4963@...|\n",
            "|alt.atheism|University of Wis...|[reply to frank@D...|\n",
            "|alt.atheism|                 sgi|In article <1qlef...|\n",
            "|alt.atheism|Okcforum Unix Use...|\\nCould you expla...|\n",
            "|alt.atheism|UC Davis Dept of ...|In article <C61H4...|\n",
            "|alt.atheism|Express Access On...|In article <C62B7...|\n",
            "|alt.atheism|Penn State Univer...|      One thing I...|\n",
            "+-----------+--------------------+--------------------+\n",
            "only showing top 20 rows\n",
            "\n"
          ]
        }
      ]
    },
    {
      "cell_type": "code",
      "source": [
        "df.describe().show()"
      ],
      "metadata": {
        "id": "lj-t4-lo3rEH",
        "colab": {
          "base_uri": "https://localhost:8080/"
        },
        "outputId": "26dc3fd0-99d1-48d1-f0fd-20cbc00bbe67"
      },
      "execution_count": null,
      "outputs": [
        {
          "output_type": "stream",
          "name": "stdout",
          "text": [
            "+-------+------------------+-------------+--------------------+\n",
            "|summary|         Categorie| Organisation|             Message|\n",
            "+-------+------------------+-------------+--------------------+\n",
            "|  count|              2000|         2000|                2000|\n",
            "|   mean|              null|         null|                null|\n",
            "| stddev|              null|         null|                null|\n",
            "|    min|       alt.atheism|   'Operation|\\t     MLB Standi...|\n",
            "|    max|rec.sport.baseball|worldbank.org||> >|> \\n|> >|> H...|\n",
            "+-------+------------------+-------------+--------------------+\n",
            "\n"
          ]
        }
      ]
    },
    {
      "cell_type": "code",
      "source": [
        "!pip install fastavro"
      ],
      "metadata": {
        "id": "4UeaQzBK5a7X",
        "colab": {
          "base_uri": "https://localhost:8080/"
        },
        "outputId": "891892fd-ede0-4d3b-dd49-be89143f3df8"
      },
      "execution_count": null,
      "outputs": [
        {
          "output_type": "stream",
          "name": "stdout",
          "text": [
            "Looking in indexes: https://pypi.org/simple, https://us-python.pkg.dev/colab-wheels/public/simple/\n",
            "Collecting fastavro\n",
            "  Downloading fastavro-1.7.2-cp38-cp38-manylinux_2_17_x86_64.manylinux2014_x86_64.whl (2.7 MB)\n",
            "\u001b[2K     \u001b[90m━━━━━━━━━━━━━━━━━━━━━━━━━━━━━━━━━━━━━━━━\u001b[0m \u001b[32m2.7/2.7 MB\u001b[0m \u001b[31m28.6 MB/s\u001b[0m eta \u001b[36m0:00:00\u001b[0m\n",
            "\u001b[?25hInstalling collected packages: fastavro\n",
            "Successfully installed fastavro-1.7.2\n"
          ]
        }
      ]
    },
    {
      "cell_type": "code",
      "source": [
        "# Sauvgarde de la DataFrame au format Avro\n",
        "\n",
        "import fastavro\n",
        "from fastavro import writer\n",
        "\n",
        "# Conversion de la DataFrame sous forme de liste de dictionaires\n",
        "\n",
        "records = df.collect()\n",
        "data = [r.asDict() for r in records]\n",
        "\n",
        "# Definition du schéma Avro schema pour les données\n",
        "schema = {\n",
        "    \"type\": \"record\",\n",
        "    \"name\": \"people\",\n",
        "    \"fields\": [\n",
        "        {\"name\": \"Categorie\", \"type\": \"string\"},\n",
        "        {\"name\": \"Organisation\", \"type\": \"string\"},\n",
        "        {\"name\": \"Message\", \"type\": \"string\"}\n",
        "    ]\n",
        "}\n",
        "\n",
        "# Sauvgarde des données dans un fichier avro\n",
        "with open(\"/content/df_avro.avro\", \"wb\") as out:\n",
        "    fastavro.writer(out, schema, data)"
      ],
      "metadata": {
        "id": "gc2Tv97S3rBJ"
      },
      "execution_count": null,
      "outputs": []
    },
    {
      "cell_type": "code",
      "source": [
        "!pip install pyarrow"
      ],
      "metadata": {
        "id": "en3QW1h33q9_",
        "colab": {
          "base_uri": "https://localhost:8080/"
        },
        "outputId": "c0ba780c-041a-4458-88fc-afc49e1829df"
      },
      "execution_count": null,
      "outputs": [
        {
          "output_type": "stream",
          "name": "stdout",
          "text": [
            "Looking in indexes: https://pypi.org/simple, https://us-python.pkg.dev/colab-wheels/public/simple/\n",
            "Requirement already satisfied: pyarrow in /usr/local/lib/python3.8/dist-packages (9.0.0)\n",
            "Requirement already satisfied: numpy>=1.16.6 in /usr/local/lib/python3.8/dist-packages (from pyarrow) (1.22.4)\n"
          ]
        }
      ]
    },
    {
      "cell_type": "code",
      "source": [
        "# Sauvgardee de la DataFrame au format Parquet\n",
        "\n",
        "import pyarrow as pa\n",
        "import pyarrow.parquet as pq\n",
        "\n",
        "\n",
        "table = pa.Table.from_pandas(df.toPandas())\n",
        "pq.write_table(table, '/content/df_parquet.parquet')"
      ],
      "metadata": {
        "id": "8v48TPHI3q7E"
      },
      "execution_count": null,
      "outputs": []
    },
    {
      "cell_type": "markdown",
      "source": [
        "## **4. Analyse descriptive**"
      ],
      "metadata": {
        "id": "5iIe-kHggYOk"
      }
    },
    {
      "cell_type": "markdown",
      "source": [
        "L'objectif de cette partie est de faire une analyse descriptive de la DataFrame obtenue à l’étape précédente en utilisant l'API Spark SQL."
      ],
      "metadata": {
        "id": "8x9i8B_Qg0c-"
      }
    },
    {
      "cell_type": "code",
      "source": [
        "# Enregistrement de la DataFrame comme une vue temporaire\n",
        "df.createOrReplaceTempView(\"documents\")\n",
        "\n",
        "# Vérification qu'on a bien deux catégories différentes de documents\n",
        "\n",
        "distinct_categories = spark.sql(\"SELECT DISTINCT Categorie FROM documents\")\n",
        "distinct_categories.show()\n",
        "\n",
        "# Le nombre d'organisations différentes\n",
        "\n",
        "organisation_count = spark.sql(\"SELECT COUNT(DISTINCT Organisation) FROM documents\")\n",
        "organisation_count.show()\n",
        "\n",
        "# Statistiques descriptives des données\n",
        "df.describe().show()"
      ],
      "metadata": {
        "id": "gaF1Mi2b3q4P",
        "colab": {
          "base_uri": "https://localhost:8080/"
        },
        "outputId": "a43ce83d-28bf-4235-cd03-63b0ad2ec79a"
      },
      "execution_count": null,
      "outputs": [
        {
          "output_type": "stream",
          "name": "stdout",
          "text": [
            "+------------------+\n",
            "|         Categorie|\n",
            "+------------------+\n",
            "|       alt.atheism|\n",
            "|rec.sport.baseball|\n",
            "+------------------+\n",
            "\n",
            "+----------------------------+\n",
            "|count(DISTINCT Organisation)|\n",
            "+----------------------------+\n",
            "|                         483|\n",
            "+----------------------------+\n",
            "\n",
            "+-------+------------------+-------------+--------------------+\n",
            "|summary|         Categorie| Organisation|             Message|\n",
            "+-------+------------------+-------------+--------------------+\n",
            "|  count|              2000|         2000|                2000|\n",
            "|   mean|              null|         null|                null|\n",
            "| stddev|              null|         null|                null|\n",
            "|    min|       alt.atheism|   'Operation|\\t     MLB Standi...|\n",
            "|    max|rec.sport.baseball|worldbank.org||> >|> \\n|> >|> H...|\n",
            "+-------+------------------+-------------+--------------------+\n",
            "\n"
          ]
        }
      ]
    },
    {
      "cell_type": "markdown",
      "source": [
        "## **5. Transformation du texte**"
      ],
      "metadata": {
        "id": "UsgkbmwJh1ss"
      }
    },
    {
      "cell_type": "markdown",
      "source": [
        "L'objectif de cette partie est d'effectuer un prétraitement sur le texte qu'on avant d'appliquer l'algorithme KMeans."
      ],
      "metadata": {
        "id": "MRNWf40IjO_r"
      }
    },
    {
      "cell_type": "code",
      "source": [
        "from pyspark.ml.feature import RegexTokenizer, HashingTF, IDF, Normalizer\n",
        "\n",
        "# Création d'un objet Tokenizer\n",
        "\n",
        "#On a utilisé ici RegexTokenizer pour n'extraire que les mots non pas les caractères spéciaux\n",
        "\n",
        "tokenizer = RegexTokenizer(inputCol=\"Message\", outputCol=\"words\", pattern=\"[^\\w]+\")\n",
        "\n",
        "# Application le tokenizer aux données\n",
        "tokenized_data = tokenizer.transform(df)\n",
        "\n",
        "# Affichage des résultats\n",
        "tokenized_data.show()\n"
      ],
      "metadata": {
        "id": "9aRkeU3I3q1L",
        "colab": {
          "base_uri": "https://localhost:8080/"
        },
        "outputId": "fc84db59-faed-4bf2-a1f2-424d47546926"
      },
      "execution_count": null,
      "outputs": [
        {
          "output_type": "stream",
          "name": "stdout",
          "text": [
            "+-----------+--------------------+--------------------+--------------------+\n",
            "|  Categorie|        Organisation|             Message|               words|\n",
            "+-----------+--------------------+--------------------+--------------------+\n",
            "|alt.atheism|                   -|In article <1pmjo...|[in, article, 1pm...|\n",
            "|alt.atheism|California Instit...|(reference line t...|[reference, line,...|\n",
            "|alt.atheism|           Summit NJ|student writes:\\n...|[student, writes,...|\n",
            "|alt.atheism|Mantis Consultant...|watson@sce.carlet...|[watson, sce, car...|\n",
            "|alt.atheism|Okcforum Unix Use...|Keith M. Ryan (km...|[keith, m, ryan, ...|\n",
            "|alt.atheism|CS Dept, Universi...|-*-----\\nIn artic...|[in, article, 1r6...|\n",
            "|alt.atheism|Society for Putti...|bil@okcforum.osrh...|[bil, okcforum, o...|\n",
            "|alt.atheism|Boston University...|In article <1qlb7...|[in, article, 1ql...|\n",
            "|alt.atheism|Case Western Rese...|In article <1993A...|[in, article, 199...|\n",
            "|alt.atheism|        SGI TechPubs|---\\n[I'm taking ...|[i, m, taking, ta...|\n",
            "|alt.atheism|Computing Laborat...|\\nacooper@mac.cc....|[acooper, mac, cc...|\n",
            "|alt.atheism|Boston University...|In article <1993A...|[in, article, 199...|\n",
            "|alt.atheism|California Instit...|arromdee@jyusenky...|[arromdee, jyusen...|\n",
            "|alt.atheism|I didn't do it, n...|In article <4963@...|[in, article, 496...|\n",
            "|alt.atheism|University of Wis...|[reply to frank@D...|[reply, to, frank...|\n",
            "|alt.atheism|                 sgi|In article <1qlef...|[in, article, 1ql...|\n",
            "|alt.atheism|Okcforum Unix Use...|\\nCould you expla...|[could, you, expl...|\n",
            "|alt.atheism|UC Davis Dept of ...|In article <C61H4...|[in, article, c61...|\n",
            "|alt.atheism|Express Access On...|In article <C62B7...|[in, article, c62...|\n",
            "|alt.atheism|Penn State Univer...|      One thing I...|[one, thing, i, t...|\n",
            "+-----------+--------------------+--------------------+--------------------+\n",
            "only showing top 20 rows\n",
            "\n"
          ]
        }
      ]
    },
    {
      "cell_type": "code",
      "source": [
        "# Création d'une représentation vectorielle des documents à l'aide de HashingTF\n",
        "\n",
        "# Création d'un objet HashingTF\n",
        "\n",
        "hashingTF = HashingTF(numFeatures=50, inputCol=\"words\", outputCol=\"features\")\n",
        "\n",
        "# Application du  HashingTF aux données tokenizées\n",
        "hashed_data = hashingTF.transform(tokenized_data)\n",
        "\n",
        "# Afficher les résultats\n",
        "hashed_data.show()"
      ],
      "metadata": {
        "id": "NReny7nO3qyO",
        "colab": {
          "base_uri": "https://localhost:8080/"
        },
        "outputId": "aa9bff45-5222-4503-b793-36d5c0c4ca79"
      },
      "execution_count": null,
      "outputs": [
        {
          "output_type": "stream",
          "name": "stdout",
          "text": [
            "+-----------+--------------------+--------------------+--------------------+--------------------+\n",
            "|  Categorie|        Organisation|             Message|               words|            features|\n",
            "+-----------+--------------------+--------------------+--------------------+--------------------+\n",
            "|alt.atheism|                   -|In article <1pmjo...|[in, article, 1pm...|(50,[0,1,2,3,4,5,...|\n",
            "|alt.atheism|California Instit...|(reference line t...|[reference, line,...|(50,[0,1,3,4,5,6,...|\n",
            "|alt.atheism|           Summit NJ|student writes:\\n...|[student, writes,...|(50,[0,1,3,4,5,6,...|\n",
            "|alt.atheism|Mantis Consultant...|watson@sce.carlet...|[watson, sce, car...|(50,[0,1,2,3,4,5,...|\n",
            "|alt.atheism|Okcforum Unix Use...|Keith M. Ryan (km...|[keith, m, ryan, ...|(50,[1,3,4,5,6,8,...|\n",
            "|alt.atheism|CS Dept, Universi...|-*-----\\nIn artic...|[in, article, 1r6...|(50,[0,1,2,3,4,5,...|\n",
            "|alt.atheism|Society for Putti...|bil@okcforum.osrh...|[bil, okcforum, o...|(50,[0,1,2,3,4,5,...|\n",
            "|alt.atheism|Boston University...|In article <1qlb7...|[in, article, 1ql...|(50,[0,1,2,3,4,5,...|\n",
            "|alt.atheism|Case Western Rese...|In article <1993A...|[in, article, 199...|(50,[2,3,5,6,7,8,...|\n",
            "|alt.atheism|        SGI TechPubs|---\\n[I'm taking ...|[i, m, taking, ta...|(50,[0,1,2,3,4,5,...|\n",
            "|alt.atheism|Computing Laborat...|\\nacooper@mac.cc....|[acooper, mac, cc...|(50,[0,1,2,3,4,5,...|\n",
            "|alt.atheism|Boston University...|In article <1993A...|[in, article, 199...|(50,[0,1,2,4,6,7,...|\n",
            "|alt.atheism|California Instit...|arromdee@jyusenky...|[arromdee, jyusen...|(50,[0,2,3,4,5,6,...|\n",
            "|alt.atheism|I didn't do it, n...|In article <4963@...|[in, article, 496...|(50,[0,1,2,3,4,5,...|\n",
            "|alt.atheism|University of Wis...|[reply to frank@D...|[reply, to, frank...|(50,[0,2,3,4,5,6,...|\n",
            "|alt.atheism|                 sgi|In article <1qlef...|[in, article, 1ql...|(50,[0,1,2,3,4,5,...|\n",
            "|alt.atheism|Okcforum Unix Use...|\\nCould you expla...|[could, you, expl...|(50,[1,3,6,9,10,1...|\n",
            "|alt.atheism|UC Davis Dept of ...|In article <C61H4...|[in, article, c61...|(50,[0,2,3,4,5,6,...|\n",
            "|alt.atheism|Express Access On...|In article <C62B7...|[in, article, c62...|(50,[0,1,2,4,5,6,...|\n",
            "|alt.atheism|Penn State Univer...|      One thing I...|[one, thing, i, t...|(50,[0,4,5,6,7,8,...|\n",
            "+-----------+--------------------+--------------------+--------------------+--------------------+\n",
            "only showing top 20 rows\n",
            "\n"
          ]
        }
      ]
    },
    {
      "cell_type": "markdown",
      "source": [
        "## **6. Groupement des documents qui ont des représentations vectorielles proches**"
      ],
      "metadata": {
        "id": "d9fxo7naj88N"
      }
    },
    {
      "cell_type": "code",
      "source": [
        "# Utilisation de l'algorithme KMeans avec un nombre du cluster égal 2\n",
        "\n",
        "from pyspark.ml.clustering import KMeans\n",
        "kmeans = KMeans(k=2, seed=1)\n",
        "model = kmeans.fit(hashed_data.select('features'))\n",
        "predictions = model.transform(hashed_data)\n",
        "predictions.show()"
      ],
      "metadata": {
        "colab": {
          "base_uri": "https://localhost:8080/"
        },
        "id": "4282DmsTk5r6",
        "outputId": "e7769faf-56eb-4589-b4d6-36c92d5af261"
      },
      "execution_count": null,
      "outputs": [
        {
          "output_type": "stream",
          "name": "stdout",
          "text": [
            "+-----------+--------------------+--------------------+--------------------+--------------------+----------+\n",
            "|  Categorie|        Organisation|             Message|               words|            features|prediction|\n",
            "+-----------+--------------------+--------------------+--------------------+--------------------+----------+\n",
            "|alt.atheism|                   -|In article <1pmjo...|[in, article, 1pm...|(50,[0,1,2,3,4,5,...|         0|\n",
            "|alt.atheism|California Instit...|(reference line t...|[reference, line,...|(50,[0,1,3,4,5,6,...|         0|\n",
            "|alt.atheism|           Summit NJ|student writes:\\n...|[student, writes,...|(50,[0,1,3,4,5,6,...|         0|\n",
            "|alt.atheism|Mantis Consultant...|watson@sce.carlet...|[watson, sce, car...|(50,[0,1,2,3,4,5,...|         0|\n",
            "|alt.atheism|Okcforum Unix Use...|Keith M. Ryan (km...|[keith, m, ryan, ...|(50,[1,3,4,5,6,8,...|         0|\n",
            "|alt.atheism|CS Dept, Universi...|-*-----\\nIn artic...|[in, article, 1r6...|(50,[0,1,2,3,4,5,...|         0|\n",
            "|alt.atheism|Society for Putti...|bil@okcforum.osrh...|[bil, okcforum, o...|(50,[0,1,2,3,4,5,...|         0|\n",
            "|alt.atheism|Boston University...|In article <1qlb7...|[in, article, 1ql...|(50,[0,1,2,3,4,5,...|         0|\n",
            "|alt.atheism|Case Western Rese...|In article <1993A...|[in, article, 199...|(50,[2,3,5,6,7,8,...|         0|\n",
            "|alt.atheism|        SGI TechPubs|---\\n[I'm taking ...|[i, m, taking, ta...|(50,[0,1,2,3,4,5,...|         0|\n",
            "|alt.atheism|Computing Laborat...|\\nacooper@mac.cc....|[acooper, mac, cc...|(50,[0,1,2,3,4,5,...|         0|\n",
            "|alt.atheism|Boston University...|In article <1993A...|[in, article, 199...|(50,[0,1,2,4,6,7,...|         0|\n",
            "|alt.atheism|California Instit...|arromdee@jyusenky...|[arromdee, jyusen...|(50,[0,2,3,4,5,6,...|         0|\n",
            "|alt.atheism|I didn't do it, n...|In article <4963@...|[in, article, 496...|(50,[0,1,2,3,4,5,...|         0|\n",
            "|alt.atheism|University of Wis...|[reply to frank@D...|[reply, to, frank...|(50,[0,2,3,4,5,6,...|         0|\n",
            "|alt.atheism|                 sgi|In article <1qlef...|[in, article, 1ql...|(50,[0,1,2,3,4,5,...|         0|\n",
            "|alt.atheism|Okcforum Unix Use...|\\nCould you expla...|[could, you, expl...|(50,[1,3,6,9,10,1...|         0|\n",
            "|alt.atheism|UC Davis Dept of ...|In article <C61H4...|[in, article, c61...|(50,[0,2,3,4,5,6,...|         0|\n",
            "|alt.atheism|Express Access On...|In article <C62B7...|[in, article, c62...|(50,[0,1,2,4,5,6,...|         0|\n",
            "|alt.atheism|Penn State Univer...|      One thing I...|[one, thing, i, t...|(50,[0,4,5,6,7,8,...|         0|\n",
            "+-----------+--------------------+--------------------+--------------------+--------------------+----------+\n",
            "only showing top 20 rows\n",
            "\n"
          ]
        }
      ]
    },
    {
      "cell_type": "markdown",
      "source": [
        "<font color='red'>**Le score WSSSE**</font>  (Within Set Sum of Squared Errors) est une métrique utilisée pour évaluer la qualité de la clustering, qui mesure la somme des carrés des distances entre chaque point d'un cluster et le centre de ce cluster. Plus précisément, pour chaque cluster, le score WSSSE calcule la somme des distances au carré entre chaque point du cluster et le centre du cluster, et somme ensuite ces valeurs pour tous les clusters. L'objectif est de minimiser le score WSSSE, ce qui correspond à avoir des clusters bien séparés et cohérents."
      ],
      "metadata": {
        "id": "8EBfYNkylXJW"
      }
    },
    {
      "cell_type": "code",
      "source": [
        "#Calcul du score WSSSE\n",
        "wssse = model.summary.trainingCost\n",
        "\n",
        "# Affichage du WSSSE\n",
        "print(\"Within-Set Sum of Squared Errors = {:.2f}\".format(wssse))"
      ],
      "metadata": {
        "colab": {
          "base_uri": "https://localhost:8080/"
        },
        "id": "xH5zus1oo8GJ",
        "outputId": "4b779fd0-20cb-4c86-fa2e-160e29129a8b"
      },
      "execution_count": null,
      "outputs": [
        {
          "output_type": "stream",
          "name": "stdout",
          "text": [
            "Within-Set Sum of Squared Errors = 6814008.58\n"
          ]
        }
      ]
    },
    {
      "cell_type": "code",
      "source": [
        "import matplotlib.pyplot as plt\n",
        "data = predictions.select(\"prediction\").toPandas()\n",
        "fig, ax= plt.subplots(figsize=(80,10))\n",
        "plt.scatter(range(len(data)), data[\"prediction\"], c=data[\"prediction\"])\n",
        "plt.title(\"KMeans Clustering Results\")\n",
        "plt.xlabel(\"Row\")\n",
        "plt.ylabel(\"Value\")\n",
        "plt.show()\n"
      ],
      "metadata": {
        "colab": {
          "base_uri": "https://localhost:8080/",
          "height": 206
        },
        "id": "-N9Imvy6q0hR",
        "outputId": "387c30c6-e05d-4512-f515-7183f34b56b3"
      },
      "execution_count": null,
      "outputs": [
        {
          "output_type": "display_data",
          "data": {
            "text/plain": [
              "<Figure size 5760x720 with 1 Axes>"
            ],
            "image/png": "[encoded data removed]"
          },
          "metadata": {
            "needs_background": "light"
          }
        }
      ]
    },
    {
      "cell_type": "markdown",
      "source": [
        "<font color='red'>**Remarque:**</font> On observe que l'algorithme KMeans n'a pas réussi à trouver les deux catégories qu'on a."
      ],
      "metadata": {
        "id": "voFt3yj6gtol"
      }
    },
    {
      "cell_type": "markdown",
      "source": [
        "## **7. Pour aller plus loin**"
      ],
      "metadata": {
        "id": "zG5ilvp2kMqS"
      }
    },
    {
      "cell_type": "code",
      "source": [
        "idf = IDF(inputCol=\"features\", outputCol=\"features_1\")\n",
        "idfModel = idf.fit(hashed_data)\n",
        "rescaledData = idfModel.transform(hashed_data)\n",
        "rescaledData.show()"
      ],
      "metadata": {
        "id": "1Ff50vFr6lr_",
        "outputId": "0ea7c5fc-8250-4ecc-84cf-1928f4a5487b",
        "colab": {
          "base_uri": "https://localhost:8080/"
        }
      },
      "execution_count": null,
      "outputs": [
        {
          "output_type": "stream",
          "name": "stdout",
          "text": [
            "+-----------+--------------------+--------------------+--------------------+--------------------+--------------------+\n",
            "|  Categorie|        Organisation|             Message|               words|            features|          features_1|\n",
            "+-----------+--------------------+--------------------+--------------------+--------------------+--------------------+\n",
            "|alt.atheism|                   -|In article <1pmjo...|[in, article, 1pm...|(50,[0,1,2,3,4,5,...|(50,[0,1,2,3,4,5,...|\n",
            "|alt.atheism|California Instit...|(reference line t...|[reference, line,...|(50,[0,1,3,4,5,6,...|(50,[0,1,3,4,5,6,...|\n",
            "|alt.atheism|           Summit NJ|student writes:\\n...|[student, writes,...|(50,[0,1,3,4,5,6,...|(50,[0,1,3,4,5,6,...|\n",
            "|alt.atheism|Mantis Consultant...|watson@sce.carlet...|[watson, sce, car...|(50,[0,1,2,3,4,5,...|(50,[0,1,2,3,4,5,...|\n",
            "|alt.atheism|Okcforum Unix Use...|Keith M. Ryan (km...|[keith, m, ryan, ...|(50,[1,3,4,5,6,8,...|(50,[1,3,4,5,6,8,...|\n",
            "|alt.atheism|CS Dept, Universi...|-*-----\\nIn artic...|[in, article, 1r6...|(50,[0,1,2,3,4,5,...|(50,[0,1,2,3,4,5,...|\n",
            "|alt.atheism|Society for Putti...|bil@okcforum.osrh...|[bil, okcforum, o...|(50,[0,1,2,3,4,5,...|(50,[0,1,2,3,4,5,...|\n",
            "|alt.atheism|Boston University...|In article <1qlb7...|[in, article, 1ql...|(50,[0,1,2,3,4,5,...|(50,[0,1,2,3,4,5,...|\n",
            "|alt.atheism|Case Western Rese...|In article <1993A...|[in, article, 199...|(50,[2,3,5,6,7,8,...|(50,[2,3,5,6,7,8,...|\n",
            "|alt.atheism|        SGI TechPubs|---\\n[I'm taking ...|[i, m, taking, ta...|(50,[0,1,2,3,4,5,...|(50,[0,1,2,3,4,5,...|\n",
            "|alt.atheism|Computing Laborat...|\\nacooper@mac.cc....|[acooper, mac, cc...|(50,[0,1,2,3,4,5,...|(50,[0,1,2,3,4,5,...|\n",
            "|alt.atheism|Boston University...|In article <1993A...|[in, article, 199...|(50,[0,1,2,4,6,7,...|(50,[0,1,2,4,6,7,...|\n",
            "|alt.atheism|California Instit...|arromdee@jyusenky...|[arromdee, jyusen...|(50,[0,2,3,4,5,6,...|(50,[0,2,3,4,5,6,...|\n",
            "|alt.atheism|I didn't do it, n...|In article <4963@...|[in, article, 496...|(50,[0,1,2,3,4,5,...|(50,[0,1,2,3,4,5,...|\n",
            "|alt.atheism|University of Wis...|[reply to frank@D...|[reply, to, frank...|(50,[0,2,3,4,5,6,...|(50,[0,2,3,4,5,6,...|\n",
            "|alt.atheism|                 sgi|In article <1qlef...|[in, article, 1ql...|(50,[0,1,2,3,4,5,...|(50,[0,1,2,3,4,5,...|\n",
            "|alt.atheism|Okcforum Unix Use...|\\nCould you expla...|[could, you, expl...|(50,[1,3,6,9,10,1...|(50,[1,3,6,9,10,1...|\n",
            "|alt.atheism|UC Davis Dept of ...|In article <C61H4...|[in, article, c61...|(50,[0,2,3,4,5,6,...|(50,[0,2,3,4,5,6,...|\n",
            "|alt.atheism|Express Access On...|In article <C62B7...|[in, article, c62...|(50,[0,1,2,4,5,6,...|(50,[0,1,2,4,5,6,...|\n",
            "|alt.atheism|Penn State Univer...|      One thing I...|[one, thing, i, t...|(50,[0,4,5,6,7,8,...|(50,[0,4,5,6,7,8,...|\n",
            "+-----------+--------------------+--------------------+--------------------+--------------------+--------------------+\n",
            "only showing top 20 rows\n",
            "\n"
          ]
        }
      ]
    },
    {
      "cell_type": "code",
      "source": [
        "# Ici on supprimé la colonne features ancienne du KMeans précedent pour en faire une nouvelle du nouveau KMeans\n",
        "rescaledData = rescaledData.drop(\"features\")\n",
        "\n",
        "normalizer = Normalizer(inputCol=\"features_1\", outputCol=\"features\")\n",
        "normalizedData = normalizer.transform(rescaledData)\n",
        "normalizedData.show()"
      ],
      "metadata": {
        "id": "xR41i_GV6ps1",
        "outputId": "edce6ef1-968f-44d3-9fbe-4cd7765f3bc2",
        "colab": {
          "base_uri": "https://localhost:8080/"
        }
      },
      "execution_count": null,
      "outputs": [
        {
          "output_type": "stream",
          "name": "stdout",
          "text": [
            "+-----------+--------------------+--------------------+--------------------+--------------------+--------------------+\n",
            "|  Categorie|        Organisation|             Message|               words|          features_1|            features|\n",
            "+-----------+--------------------+--------------------+--------------------+--------------------+--------------------+\n",
            "|alt.atheism|                   -|In article <1pmjo...|[in, article, 1pm...|(50,[0,1,2,3,4,5,...|(50,[0,1,2,3,4,5,...|\n",
            "|alt.atheism|California Instit...|(reference line t...|[reference, line,...|(50,[0,1,3,4,5,6,...|(50,[0,1,3,4,5,6,...|\n",
            "|alt.atheism|           Summit NJ|student writes:\\n...|[student, writes,...|(50,[0,1,3,4,5,6,...|(50,[0,1,3,4,5,6,...|\n",
            "|alt.atheism|Mantis Consultant...|watson@sce.carlet...|[watson, sce, car...|(50,[0,1,2,3,4,5,...|(50,[0,1,2,3,4,5,...|\n",
            "|alt.atheism|Okcforum Unix Use...|Keith M. Ryan (km...|[keith, m, ryan, ...|(50,[1,3,4,5,6,8,...|(50,[1,3,4,5,6,8,...|\n",
            "|alt.atheism|CS Dept, Universi...|-*-----\\nIn artic...|[in, article, 1r6...|(50,[0,1,2,3,4,5,...|(50,[0,1,2,3,4,5,...|\n",
            "|alt.atheism|Society for Putti...|bil@okcforum.osrh...|[bil, okcforum, o...|(50,[0,1,2,3,4,5,...|(50,[0,1,2,3,4,5,...|\n",
            "|alt.atheism|Boston University...|In article <1qlb7...|[in, article, 1ql...|(50,[0,1,2,3,4,5,...|(50,[0,1,2,3,4,5,...|\n",
            "|alt.atheism|Case Western Rese...|In article <1993A...|[in, article, 199...|(50,[2,3,5,6,7,8,...|(50,[2,3,5,6,7,8,...|\n",
            "|alt.atheism|        SGI TechPubs|---\\n[I'm taking ...|[i, m, taking, ta...|(50,[0,1,2,3,4,5,...|(50,[0,1,2,3,4,5,...|\n",
            "|alt.atheism|Computing Laborat...|\\nacooper@mac.cc....|[acooper, mac, cc...|(50,[0,1,2,3,4,5,...|(50,[0,1,2,3,4,5,...|\n",
            "|alt.atheism|Boston University...|In article <1993A...|[in, article, 199...|(50,[0,1,2,4,6,7,...|(50,[0,1,2,4,6,7,...|\n",
            "|alt.atheism|California Instit...|arromdee@jyusenky...|[arromdee, jyusen...|(50,[0,2,3,4,5,6,...|(50,[0,2,3,4,5,6,...|\n",
            "|alt.atheism|I didn't do it, n...|In article <4963@...|[in, article, 496...|(50,[0,1,2,3,4,5,...|(50,[0,1,2,3,4,5,...|\n",
            "|alt.atheism|University of Wis...|[reply to frank@D...|[reply, to, frank...|(50,[0,2,3,4,5,6,...|(50,[0,2,3,4,5,6,...|\n",
            "|alt.atheism|                 sgi|In article <1qlef...|[in, article, 1ql...|(50,[0,1,2,3,4,5,...|(50,[0,1,2,3,4,5,...|\n",
            "|alt.atheism|Okcforum Unix Use...|\\nCould you expla...|[could, you, expl...|(50,[1,3,6,9,10,1...|(50,[1,3,6,9,10,1...|\n",
            "|alt.atheism|UC Davis Dept of ...|In article <C61H4...|[in, article, c61...|(50,[0,2,3,4,5,6,...|(50,[0,2,3,4,5,6,...|\n",
            "|alt.atheism|Express Access On...|In article <C62B7...|[in, article, c62...|(50,[0,1,2,4,5,6,...|(50,[0,1,2,4,5,6,...|\n",
            "|alt.atheism|Penn State Univer...|      One thing I...|[one, thing, i, t...|(50,[0,4,5,6,7,8,...|(50,[0,4,5,6,7,8,...|\n",
            "+-----------+--------------------+--------------------+--------------------+--------------------+--------------------+\n",
            "only showing top 20 rows\n",
            "\n"
          ]
        }
      ]
    },
    {
      "cell_type": "code",
      "source": [
        "from pyspark.ml.clustering import KMeans\n",
        "\n",
        "kmeans = KMeans(k=2, seed=1)\n",
        "model_2 = kmeans.fit(normalizedData.select('features'))\n",
        "predictions_2 = model_2.transform(normalizedData)\n",
        "predictions_2.show()"
      ],
      "metadata": {
        "id": "tqpOXrvB3qvR",
        "colab": {
          "base_uri": "https://localhost:8080/"
        },
        "outputId": "77cca52a-0735-4d09-c1e2-961012ed63b3"
      },
      "execution_count": null,
      "outputs": [
        {
          "output_type": "stream",
          "name": "stdout",
          "text": [
            "+-----------+--------------------+--------------------+--------------------+--------------------+--------------------+----------+\n",
            "|  Categorie|        Organisation|             Message|               words|          features_1|            features|prediction|\n",
            "+-----------+--------------------+--------------------+--------------------+--------------------+--------------------+----------+\n",
            "|alt.atheism|                   -|In article <1pmjo...|[in, article, 1pm...|(50,[0,1,2,3,4,5,...|(50,[0,1,2,3,4,5,...|         0|\n",
            "|alt.atheism|California Instit...|(reference line t...|[reference, line,...|(50,[0,1,3,4,5,6,...|(50,[0,1,3,4,5,6,...|         0|\n",
            "|alt.atheism|           Summit NJ|student writes:\\n...|[student, writes,...|(50,[0,1,3,4,5,6,...|(50,[0,1,3,4,5,6,...|         0|\n",
            "|alt.atheism|Mantis Consultant...|watson@sce.carlet...|[watson, sce, car...|(50,[0,1,2,3,4,5,...|(50,[0,1,2,3,4,5,...|         0|\n",
            "|alt.atheism|Okcforum Unix Use...|Keith M. Ryan (km...|[keith, m, ryan, ...|(50,[1,3,4,5,6,8,...|(50,[1,3,4,5,6,8,...|         0|\n",
            "|alt.atheism|CS Dept, Universi...|-*-----\\nIn artic...|[in, article, 1r6...|(50,[0,1,2,3,4,5,...|(50,[0,1,2,3,4,5,...|         0|\n",
            "|alt.atheism|Society for Putti...|bil@okcforum.osrh...|[bil, okcforum, o...|(50,[0,1,2,3,4,5,...|(50,[0,1,2,3,4,5,...|         0|\n",
            "|alt.atheism|Boston University...|In article <1qlb7...|[in, article, 1ql...|(50,[0,1,2,3,4,5,...|(50,[0,1,2,3,4,5,...|         0|\n",
            "|alt.atheism|Case Western Rese...|In article <1993A...|[in, article, 199...|(50,[2,3,5,6,7,8,...|(50,[2,3,5,6,7,8,...|         0|\n",
            "|alt.atheism|        SGI TechPubs|---\\n[I'm taking ...|[i, m, taking, ta...|(50,[0,1,2,3,4,5,...|(50,[0,1,2,3,4,5,...|         0|\n",
            "|alt.atheism|Computing Laborat...|\\nacooper@mac.cc....|[acooper, mac, cc...|(50,[0,1,2,3,4,5,...|(50,[0,1,2,3,4,5,...|         0|\n",
            "|alt.atheism|Boston University...|In article <1993A...|[in, article, 199...|(50,[0,1,2,4,6,7,...|(50,[0,1,2,4,6,7,...|         1|\n",
            "|alt.atheism|California Instit...|arromdee@jyusenky...|[arromdee, jyusen...|(50,[0,2,3,4,5,6,...|(50,[0,2,3,4,5,6,...|         0|\n",
            "|alt.atheism|I didn't do it, n...|In article <4963@...|[in, article, 496...|(50,[0,1,2,3,4,5,...|(50,[0,1,2,3,4,5,...|         0|\n",
            "|alt.atheism|University of Wis...|[reply to frank@D...|[reply, to, frank...|(50,[0,2,3,4,5,6,...|(50,[0,2,3,4,5,6,...|         0|\n",
            "|alt.atheism|                 sgi|In article <1qlef...|[in, article, 1ql...|(50,[0,1,2,3,4,5,...|(50,[0,1,2,3,4,5,...|         1|\n",
            "|alt.atheism|Okcforum Unix Use...|\\nCould you expla...|[could, you, expl...|(50,[1,3,6,9,10,1...|(50,[1,3,6,9,10,1...|         0|\n",
            "|alt.atheism|UC Davis Dept of ...|In article <C61H4...|[in, article, c61...|(50,[0,2,3,4,5,6,...|(50,[0,2,3,4,5,6,...|         0|\n",
            "|alt.atheism|Express Access On...|In article <C62B7...|[in, article, c62...|(50,[0,1,2,4,5,6,...|(50,[0,1,2,4,5,6,...|         0|\n",
            "|alt.atheism|Penn State Univer...|      One thing I...|[one, thing, i, t...|(50,[0,4,5,6,7,8,...|(50,[0,4,5,6,7,8,...|         0|\n",
            "+-----------+--------------------+--------------------+--------------------+--------------------+--------------------+----------+\n",
            "only showing top 20 rows\n",
            "\n"
          ]
        }
      ]
    },
    {
      "cell_type": "code",
      "source": [
        "wssse = model_2.summary.trainingCost\n",
        "\n",
        "# Print the WSSSE\n",
        "print(\"Within-Set Sum of Squared Errors = {:.2f}\".format(wssse))"
      ],
      "metadata": {
        "id": "vRjJHHYC3qsS",
        "colab": {
          "base_uri": "https://localhost:8080/"
        },
        "outputId": "7bdf5919-f437-4925-c387-5c113fd3e205"
      },
      "execution_count": null,
      "outputs": [
        {
          "output_type": "stream",
          "name": "stdout",
          "text": [
            "Within-Set Sum of Squared Errors = 730.17\n"
          ]
        }
      ]
    },
    {
      "cell_type": "markdown",
      "source": [
        "<font color='red'>**Remarque:**</font> On remarque que le score c'est amélioré."
      ],
      "metadata": {
        "id": "Bcntx9Y8lGQq"
      }
    },
    {
      "cell_type": "code",
      "source": [
        "data = predictions_2.select(\"prediction\").toPandas()\n",
        "\n",
        "fig, ax = plt.subplots(figsize=(80, 10))\n",
        "plt.scatter(range(len(data)), data[\"prediction\"], c=data[\"prediction\"])\n",
        "ax.axvline(x=999, color='r', linestyle='--', linewidth=3)\n",
        "plt.title(\"KMeans Clustering Results\")\n",
        "plt.xlabel(\"Row\")\n",
        "plt.ylabel(\"Value\")\n",
        "plt.show()\n",
        "\n"
      ],
      "metadata": {
        "id": "9cKgXFcl3qjt",
        "colab": {
          "base_uri": "https://localhost:8080/",
          "height": 206
        },
        "outputId": "82cb62b6-86ff-4218-d3a0-b057cf3d0fd2"
      },
      "execution_count": null,
      "outputs": [
        {
          "output_type": "display_data",
          "data": {
            "text/plain": [
              "<Figure size 5760x720 with 1 Axes>"
            ],
            "image/png": "[encoded data removed]"
          },
          "metadata": {
            "needs_background": "light"
          }
        }
      ]
    },
    {
      "cell_type": "markdown",
      "source": [
        "<font color='red'>**Remarque:**</font> On observe que le résultat de classification s'est amélioré, car on remarque qu'il commence un peu à distinguer les deux catégories (points mauve concentré à gauche et point jaunes concentrés à droite). Mais ça reste insuffisant."
      ],
      "metadata": {
        "id": "rloAJyXCkQok"
      }
    },
    {
      "cell_type": "markdown",
      "source": [
        "##**Conclusion:**\n",
        "En conclusion, ce TP sur Apache Spark nous a permis de découvrir et de mettre en pratique différentes fonctionnalités de Spark pour le traitement de données textuelles. Nous avons appris à charger des données textuelles dans Spark, à les nettoyer et à les transformer pour l'analyse. Nous avons également utilisé Spark SQL et MlLib pour effectuer des analyses descriptives et des regroupements de documents similaires à l'aide de l'algorithme KMeans. Enfin, nous avons vu des options avancées telles que la pondération Tf-Idf et la normalisation des vecteurs avant l'utilisation de l'algorithme KMeans. Ce TP nous a donc permis de comprendre comment utiliser Spark pour le traitement et l'analyse de données textuelles de manière efficace et évolutive."
      ],
      "metadata": {
        "id": "5Lhjd8vzmJPJ"
      }
    }
  ]
}